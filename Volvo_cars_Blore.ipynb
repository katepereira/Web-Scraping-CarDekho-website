import requests
from bs4 import BeautifulSoup
import csv

# Define the URL to scrape
url = 'https://www.cardekho.com/used-volvo+cars+in+bangalore'

# Set up the headers to mimic a browser request
headers = {
    'User-Agent': 'Mozilla/5.0 (Windows NT 10.0; Win64; x64) AppleWebKit/537.36 (KHTML, like Gecko) Chrome/58.0.3029.110 Safari/537.3'
}

# Send the request to the URL
response = requests.get(url, headers=headers)

# Check if the request was successful
if response.status_code == 200:
    # Parse the HTML content
    html_content = response.content
    soup = BeautifulSoup(html_content, 'html.parser')

    # Initialize a list to store car data
    car_list = []

    # Find all car listings on the page
    for car in soup.find_all('div', class_='gsc_col-xs-12 gsc_col-sm-6 gsc_col-md-4 cardColumn'):
        # Extract the model name
        model_name = car.find('h3', class_='title').text if car.find('h3', class_='title') else 'N/A'

        # Extract the image URL
        image_tag = car.find('img')
        image = image_tag['src'] if image_tag else 'N/A'

        # Extract the link to the car details
        link_tag = car.find('a')
        link = link_tag['href'] if link_tag else 'N/A'

        # Extract the price
        price_tag = car.find('div', class_='Price')
        price = price_tag.text.strip() if price_tag else 'N/A'

        # Extract fuel type and transmission details
        details = car.find('div', class_='dotsDetails')
        fuel_type = 'N/A'
        transmission = 'N/A'

        if details:
            details_list = details.text.split('�')
            if len(details_list) > 1:
                fuel_type = details_list[1].strip()
            if len(details_list) > 2:
                transmission = details_list[2].strip()

        # Store car data in a dictionary
        car_data = {
            'model_name': model_name,
            'image': image,
            'link': link,
            'price': price,
            'fuel_type': fuel_type,
            'transmission': transmission
        }

        # Add the car data to the list
        car_list.append(car_data)

    # Define the CSV file name
    csv_file = 'used_volvo_cars_in_blore.csv'

    # Write car data to the CSV file
    with open(csv_file, mode='w', newline='', encoding='utf-8') as file:
        writer = csv.DictWriter(file, fieldnames=['model_name', 'image', 'link', 'price', 'fuel_type', 'transmission'])
        writer.writeheader()
        writer.writerows(car_list)

    print(f"Car data has been written to {csv_file}")
else:
    print(f"Failed to retrieve the webpage. Status code: {response.status_code}")
